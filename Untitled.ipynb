{
 "cells": [
  {
   "cell_type": "code",
   "execution_count": 12,
   "metadata": {},
   "outputs": [],
   "source": [
    "import pandas as pd\n",
    "import numpy as np\n",
    "from sklearn.cluster import KMeans"
   ]
  },
  {
   "cell_type": "code",
   "execution_count": 2,
   "metadata": {},
   "outputs": [
    {
     "name": "stderr",
     "output_type": "stream",
     "text": [
      "/Library/Frameworks/Python.framework/Versions/3.6/lib/python3.6/site-packages/IPython/core/interactiveshell.py:2785: DtypeWarning: Columns (100,102,104,110,138,139,140,141,142,156,175,178,187,191,233,262,263,286,287,289,291,316,317,318,320,321,349,351,355,356,357,361,369,370,380,387,388,418,450,453,456,462,469,473,477,478,479,480,482,483,484,485,486,487,488,489,491,492,493,494,495,497,498,500,501,502,504,505,506,507,508,561,562,614,640,658,664,676,680) have mixed types. Specify dtype option on import or set low_memory=False.\n",
      "  interactivity=interactivity, compiler=compiler, result=result)\n"
     ]
    }
   ],
   "source": [
    "df = pd.read_csv('raw.csv')"
   ]
  },
  {
   "cell_type": "code",
   "execution_count": 3,
   "metadata": {},
   "outputs": [
    {
     "name": "stdout",
     "output_type": "stream",
     "text": [
      "   wgtpop  wgthh  dataright_seq match  match_level_1 State_99039  \\\n",
      "0    1973    391           2517     Y            1.0          CT   \n",
      "1     348    345           2518     Y            1.0          CT   \n",
      "2     396    392           2519     Y            1.0          CT   \n",
      "3     838    276           2520     N            NaN         NaN   \n",
      "4    1040    515           2521     Y            1.0          CT   \n",
      "\n",
      "   Zip_Code_99040  Zip4_Code_99041  Len_of_Residence_90300  \\\n",
      "0          6604.0           2004.0                     NaN   \n",
      "1          6604.0           2004.0                     1.0   \n",
      "2          6604.0           2003.0                    15.0   \n",
      "3             NaN              NaN                     NaN   \n",
      "4          6604.0           2004.0                    15.0   \n",
      "\n",
      "  Marital_Status_90301          ...          other22_times_shopped_30_days  \\\n",
      "0                  NaN          ...                                    NaN   \n",
      "1                  NaN          ...                                    NaN   \n",
      "2                  NaN          ...                                    NaN   \n",
      "3                  NaN          ...                                    NaN   \n",
      "4                    M          ...                                    NaN   \n",
      "\n",
      "  other22_shopped_3_mos other23_times_shopped_30_days other23_shopped_3_mos  \\\n",
      "0                     0                           NaN                     0   \n",
      "1                     0                           NaN                     0   \n",
      "2                     0                           NaN                     0   \n",
      "3                     0                           NaN                     0   \n",
      "4                     0                           NaN                     0   \n",
      "\n",
      "   other24_times_shopped_30_days  other24_shopped_3_mos  \\\n",
      "0                              C                      1   \n",
      "1                              C                      1   \n",
      "2                            NaN                      0   \n",
      "3                            NaN                      0   \n",
      "4                            NaN                      0   \n",
      "\n",
      "  other25_times_shopped_30_days other25_shopped_3_mos  \\\n",
      "0                           NaN                     0   \n",
      "1                           NaN                     0   \n",
      "2                           NaN                     0   \n",
      "3                           NaN                     0   \n",
      "4                           NaN                     0   \n",
      "\n",
      "  other26_times_shopped_30_days other26_shopped_3_mos  \n",
      "0                           NaN                     0  \n",
      "1                           NaN                     0  \n",
      "2                           NaN                     0  \n",
      "3                           NaN                     0  \n",
      "4                           NaN                     0  \n",
      "\n",
      "[5 rows x 684 columns]\n"
     ]
    }
   ],
   "source": [
    "print(df.head())"
   ]
  },
  {
   "cell_type": "code",
   "execution_count": 4,
   "metadata": {},
   "outputs": [],
   "source": [
    "df_test = df[df['match']=='Y']"
   ]
  },
  {
   "cell_type": "code",
   "execution_count": 6,
   "metadata": {},
   "outputs": [
    {
     "name": "stdout",
     "output_type": "stream",
     "text": [
      "<class 'pandas.core.frame.DataFrame'>\n",
      "Int64Index: 35966 entries, 0 to 48645\n",
      "Columns: 684 entries, wgtpop to other26_shopped_3_mos\n",
      "dtypes: float64(158), int64(36), object(490)\n",
      "memory usage: 188.0+ MB\n"
     ]
    }
   ],
   "source": [
    "df_test.info()"
   ]
  },
  {
   "cell_type": "code",
   "execution_count": 8,
   "metadata": {},
   "outputs": [],
   "source": [
    "df_bought_any = df_test[df_test['wc_bought_any']==1]"
   ]
  },
  {
   "cell_type": "code",
   "execution_count": 11,
   "metadata": {},
   "outputs": [
    {
     "name": "stdout",
     "output_type": "stream",
     "text": [
      "   wgtpop  wgthh  dataright_seq match  match_level_1 State_99039  \\\n",
      "1     348    345           2518     Y            1.0          CT   \n",
      "2     396    392           2519     Y            1.0          CT   \n",
      "4    1040    515           2521     Y            1.0          CT   \n",
      "6     577    286           2523     Y            1.0          CT   \n",
      "7     656    217           2524     Y            1.0          CT   \n",
      "\n",
      "   Zip_Code_99040  Zip4_Code_99041  Len_of_Residence_90300  \\\n",
      "1          6604.0           2004.0                     1.0   \n",
      "2          6604.0           2003.0                    15.0   \n",
      "4          6604.0           2004.0                    15.0   \n",
      "6          6604.0           2003.0                    15.0   \n",
      "7          6604.0           2004.0                    15.0   \n",
      "\n",
      "  Marital_Status_90301          ...          other22_times_shopped_30_days  \\\n",
      "1                  NaN          ...                                    NaN   \n",
      "2                  NaN          ...                                    NaN   \n",
      "4                    M          ...                                    NaN   \n",
      "6                  NaN          ...                                    NaN   \n",
      "7                    M          ...                                    NaN   \n",
      "\n",
      "  other22_shopped_3_mos other23_times_shopped_30_days other23_shopped_3_mos  \\\n",
      "1                     0                           NaN                     0   \n",
      "2                     0                           NaN                     0   \n",
      "4                     0                           NaN                     0   \n",
      "6                     0                           NaN                     0   \n",
      "7                     0                           NaN                     0   \n",
      "\n",
      "   other24_times_shopped_30_days  other24_shopped_3_mos  \\\n",
      "1                              C                      1   \n",
      "2                            NaN                      0   \n",
      "4                            NaN                      0   \n",
      "6                            NaN                      0   \n",
      "7                            NaN                      0   \n",
      "\n",
      "  other25_times_shopped_30_days other25_shopped_3_mos  \\\n",
      "1                           NaN                     0   \n",
      "2                           NaN                     0   \n",
      "4                           NaN                     0   \n",
      "6                           NaN                     0   \n",
      "7                           NaN                     0   \n",
      "\n",
      "  other26_times_shopped_30_days other26_shopped_3_mos  \n",
      "1                           NaN                     0  \n",
      "2                           NaN                     0  \n",
      "4                           NaN                     0  \n",
      "6                           NaN                     0  \n",
      "7                           NaN                     0  \n",
      "\n",
      "[5 rows x 684 columns]\n"
     ]
    }
   ],
   "source": [
    "print(df_bought_any.head(5))"
   ]
  },
  {
   "cell_type": "code",
   "execution_count": null,
   "metadata": {},
   "outputs": [],
   "source": []
  }
 ],
 "metadata": {
  "kernelspec": {
   "display_name": "Python 3",
   "language": "python",
   "name": "python3"
  },
  "language_info": {
   "codemirror_mode": {
    "name": "ipython",
    "version": 3
   },
   "file_extension": ".py",
   "mimetype": "text/x-python",
   "name": "python",
   "nbconvert_exporter": "python",
   "pygments_lexer": "ipython3",
   "version": "3.6.5"
  }
 },
 "nbformat": 4,
 "nbformat_minor": 2
}
